{
  "cells": [
    {
      "cell_type": "code",
      "execution_count": null,
      "metadata": {
        "id": "_8Yp48rQQl99"
      },
      "outputs": [],
      "source": [
        "%%capture\n",
        "!pip install langchain langchain_openai langchain_google_genai langchain_core langchain_community\n",
        "!pip install wikipedia chromadb\n",
        "!pip install pyowm\n",
        "!pip install langchainhub\n",
        "!pip install newspaper3k\n",
        "!pip install newsapi-python\n",
        "!pip install pycountry\n",
        "!pip install google-search-results"
      ]
    },
    {
      "cell_type": "code",
      "execution_count": null,
      "metadata": {
        "id": "w73KRiYZVSNR"
      },
      "outputs": [],
      "source": [
        "openaiKey = \"*****************************\"\n",
        "googleKey = \"********************************\""
      ]
    },
    {
      "cell_type": "code",
      "execution_count": null,
      "metadata": {
        "id": "089lR1_jVl2w"
      },
      "outputs": [],
      "source": [
        "import os\n",
        "os.environ['OPENAI_API_KEY'] = openaiKey\n",
        "os.environ['GOOGLE_API_KEY'] = googleKey"
      ]
    },
    {
      "cell_type": "code",
      "execution_count": null,
      "metadata": {
        "id": "GWy6oOkYV2Jk"
      },
      "outputs": [],
      "source": [
        "from langchain_openai import ChatOpenAI\n",
        "from langchain_google_genai import ChatGoogleGenerativeAI\n",
        "from langchain.prompts import PromptTemplate  , ChatPromptTemplate\n",
        "from langchain_core.output_parsers import StrOutputParser\n",
        "from langchain_core.output_parsers import JsonOutputParser\n",
        "from langchain.chains import LLMChain\n",
        "\n",
        "from langchain_core.runnables import RunnablePassthrough\n",
        "from operator import itemgetter\n",
        "\n",
        "from langchain.chains.router import MultiRouteChain\n",
        "from langchain.chains.router.llm_router import LLMRouterChain , RouterOutputParser\n",
        "from langchain.chains.router.multi_prompt_prompt import MULTI_PROMPT_ROUTER_TEMPLATE\n",
        "\n",
        "from langchain_community.document_loaders import WikipediaLoader\n",
        "\n",
        "from langchain_community.vectorstores import Chroma\n",
        "from langchain.text_splitter import RecursiveCharacterTextSplitter\n",
        "from langchain_google_genai import GoogleGenerativeAIEmbeddings\n",
        "from langchain_core.runnables import RunnablePassthrough\n",
        "\n",
        "from langchain_community.document_loaders import WeatherDataLoader\n",
        "from langchain.tools import BaseTool, StructuredTool, tool\n",
        "\n",
        "from langchain.agents import AgentType, initialize_agent\n",
        "from langchain.chains import LLMMathChain\n",
        "from langchain_core.pydantic_v1 import BaseModel, Field\n",
        "from langchain_core.tools import Tool\n",
        "from langchain_openai import ChatOpenAI\n",
        "from langchain_core.prompts import ChatPromptTemplate, MessagesPlaceholder\n",
        "\n",
        "from langchain_community.document_loaders import NewsURLLoader\n",
        "from newsapi import NewsApiClient"
      ]
    },
    {
      "cell_type": "code",
      "execution_count": null,
      "metadata": {
        "id": "wKpZuTR3V9S9"
      },
      "outputs": [],
      "source": [
        "llm1 = ChatOpenAI(model_name ='gpt-3.5-turbo' , temperature = 0)\n",
        "llm2 = ChatGoogleGenerativeAI(model = 'gemini-pro' , temperature = 0 , convert_system_message_to_human=True)"
      ]
    },
    {
      "cell_type": "markdown",
      "source": [
        "##1"
      ],
      "metadata": {
        "id": "cON3buEphU8o"
      }
    },
    {
      "cell_type": "markdown",
      "source": [
        "### **1.1 Compare the responses of two LLMs**"
      ],
      "metadata": {
        "id": "2C9_LYgehada"
      }
    },
    {
      "cell_type": "code",
      "source": [
        "def CompareLLM(question):\n",
        "  quest = \"Define What is Machine Learning in 3 lines\"\n",
        "  prompt = PromptTemplate(input_variables=[],template=\"\")\n",
        "\n",
        "  question_prompt = PromptTemplate.from_template(\"{question}\")\n",
        "  complete_chain_prompt = PromptTemplate.from_template(\"\"\"\n",
        "  Give me the comparision scores out of 100 for each resposne aganist to the given question:\n",
        "  question:{question}\n",
        "  response 1:{response1}\n",
        "  response 2:{response2}\n",
        "  Also suggest which response is best.\n",
        "  \"\"\")\n",
        "\n",
        "  first_chain = question_prompt | llm1 | StrOutputParser()\n",
        "  second_chain = question_prompt | llm2 | StrOutputParser()\n",
        "  third_chain = complete_chain_prompt | llm1 | StrOutputParser()\n",
        "\n",
        "  complete_chain = ({\n",
        "          \"question\": itemgetter(\"question\"),\n",
        "          \"response1\": first_chain ,\n",
        "          \"response2\" : second_chain ,\n",
        "          }\n",
        "      | RunnablePassthrough.assign(final=third_chain)\n",
        "      )\n",
        "\n",
        "  final_res = complete_chain.invoke({\"question\":quest})\n",
        "\n",
        "  for i in final_res:\n",
        "    print(f\"{i} : \\n{final_res[i]}\")\n",
        "    print(\"\\n\")\n",
        "\n",
        "CompareLLM(\"Define What is Machine Learning in 3 lines\")"
      ],
      "metadata": {
        "colab": {
          "base_uri": "https://localhost:8080/"
        },
        "id": "9iChN43Bc2p9",
        "outputId": "d9ce3eb3-cce5-4317-8422-14f61c87bfdc"
      },
      "execution_count": null,
      "outputs": [
        {
          "output_type": "stream",
          "name": "stdout",
          "text": [
            "question : \n",
            "Define What is Machine Learning in 3 lines\n",
            "\n",
            "\n",
            "response1 : \n",
            "Machine learning is a subset of artificial intelligence that allows computers to learn and improve from experience without being explicitly programmed. It involves algorithms that analyze data, identify patterns, and make decisions or predictions based on that data. Machine learning is used in a wide range of applications, from recommendation systems to self-driving cars.\n",
            "\n",
            "\n",
            "response2 : \n",
            "- Machine learning is a subfield of artificial intelligence that gives computers the ability to learn without being explicitly programmed.\n",
            "- Machine learning algorithms use historical data as input to predict new output values.\n",
            "- The goal of machine learning is to create algorithms that can generalize from past experiences to make accurate predictions about the future.\n",
            "\n",
            "\n",
            "final : \n",
            "Response 1:\n",
            "- Accuracy: 95/100\n",
            "- Conciseness: 90/100\n",
            "- Relevance: 100/100\n",
            "\n",
            "Response 2:\n",
            "- Accuracy: 90/100\n",
            "- Conciseness: 95/100\n",
            "- Relevance: 95/100\n",
            "\n",
            "Based on the comparison scores, Response 1 is slightly better as it provides a more comprehensive explanation of what machine learning is in just 3 lines. It covers the key aspects of machine learning such as its relationship to artificial intelligence, the use of algorithms to analyze data, and its wide range of applications.\n",
            "\n",
            "\n"
          ]
        }
      ]
    },
    {
      "cell_type": "markdown",
      "source": [
        "### **1.2 MutiRouteChain for facts and creativity**"
      ],
      "metadata": {
        "id": "7NixOXb_hg30"
      }
    },
    {
      "cell_type": "code",
      "source": [
        "def MultiRouteExecutor(query):\n",
        "  facts = \"\"\"\n",
        "  You are good at past historical data or facts .\n",
        "  So , Answer the following question:\n",
        "  question : {input}\n",
        "  \"\"\"\n",
        "\n",
        "  creative = \"\"\"\n",
        "  You are good at creating content for the following subject:\n",
        "  subject : {input}\n",
        "  \"\"\"\n",
        "\n",
        "  prompt_infos = [\n",
        "    {\n",
        "        \"name\":\"fact\" ,\n",
        "        \"description\":\"Good for answering questions about historical data\" ,\n",
        "        \"prompt_template\": facts\n",
        "    }  ,\n",
        "    {\n",
        "        \"name\":\"creative\" ,\n",
        "        \"description\":\"Good for generating content about given subject\" ,\n",
        "        \"prompt_template\":creative\n",
        "    }\n",
        "  ]\n",
        "\n",
        "\n",
        "  destination_chain = {}\n",
        "\n",
        "  for prompt_info in prompt_infos:\n",
        "    name = prompt_info['name']\n",
        "    template = prompt_info['prompt_template']\n",
        "    chat_prompt = ChatPromptTemplate.from_template(template  = template)\n",
        "    chain = LLMChain(llm=llm2 , prompt = chat_prompt)\n",
        "    destination_chain[name] = chain\n",
        "\n",
        "  default_prompt = ChatPromptTemplate.from_template(template = \"{input}\")\n",
        "  default_chain = LLMChain(llm=llm2 , prompt = default_prompt)\n",
        "\n",
        "  destinations = [f\"{p['name']}:{p['description']}\" for p in prompt_infos]\n",
        "  destination_str = \"\\n\".join(destinations)\n",
        "\n",
        "  router_template = MULTI_PROMPT_ROUTER_TEMPLATE.format(destinations=destination_str)\n",
        "  router_prompt = PromptTemplate(template=router_template,\n",
        "                                input_variables=[\"input\"],\n",
        "                                output_parser=RouterOutputParser())\n",
        "  router_chain = LLMRouterChain.from_llm(llm=llm2, prompt=router_prompt)\n",
        "  chain = MultiRouteChain(router_chain = router_chain , destination_chains = destination_chain , default_chain=default_chain , verbose=True )\n",
        "\n",
        "  result = chain.invoke(query)\n",
        "\n",
        "  return result['text']\n",
        "\n",
        "\n",
        "print(MultiRouteExecutor(\"Best places to visit in India.\"))\n",
        "print(MultiRouteExecutor(\"Tell me some thing about nature .\"))"
      ],
      "metadata": {
        "colab": {
          "base_uri": "https://localhost:8080/"
        },
        "id": "ofAMDambvdIk",
        "outputId": "f0c892ea-07c4-4503-f83f-99a1b1a418a6"
      },
      "execution_count": null,
      "outputs": [
        {
          "output_type": "stream",
          "name": "stdout",
          "text": [
            "\n",
            "\n",
            "\u001b[1m> Entering new MultiRouteChain chain...\u001b[0m\n"
          ]
        },
        {
          "output_type": "stream",
          "name": "stderr",
          "text": [
            "/usr/local/lib/python3.10/dist-packages/langchain/chains/llm.py:316: UserWarning: The predict_and_parse method is deprecated, instead pass an output parser directly to LLMChain.\n",
            "  warnings.warn(\n"
          ]
        },
        {
          "output_type": "stream",
          "name": "stdout",
          "text": [
            "fact: {'input': 'Best places to visit in India.'}\n",
            "\u001b[1m> Finished chain.\u001b[0m\n",
            "1. **Taj Mahal, Agra:** This iconic mausoleum is a UNESCO World Heritage Site and one of the most recognizable buildings in the world. It was built by Mughal emperor Shah Jahan in memory of his wife, Mumtaz Mahal.\n",
            "\n",
            "2. **Red Fort, Delhi:** This historic fort was built by the Mughal emperor Shah Jahan in the 17th century. It is a UNESCO World Heritage Site and a popular tourist destination.\n",
            "\n",
            "3. **Qutub Minar, Delhi:** This towering minaret is the tallest brick minaret in the world. It was built by the Delhi Sultanate in the 13th century.\n",
            "\n",
            "4. **Gateway of India, Mumbai:** This iconic archway was built by the British in 1924 to commemorate the visit of King George V and Queen Mary. It is a popular tourist destination and a symbol of Mumbai.\n",
            "\n",
            "5. **Victoria Memorial, Kolkata:** This grand memorial was built in the early 20th century to commemorate the reign of Queen Victoria. It is a UNESCO World Heritage Site and a popular tourist destination.\n",
            "\n",
            "6. **Charminar, Hyderabad:** This iconic monument was built by the Qutb Shahi dynasty in the 16th century. It is a popular tourist destination and a symbol of Hyderabad.\n",
            "\n",
            "7. **Hawa Mahal, Jaipur:** This unique palace was built by the Rajput Maharaja Sawai Pratap Singh in the 18th century. It is a UNESCO World Heritage Site and a popular tourist destination.\n",
            "\n",
            "8. **Amber Fort, Jaipur:** This hilltop fort was built by the Rajput Maharaja Man Singh I in the 16th century. It is a UNESCO World Heritage Site and a popular tourist destination.\n",
            "\n",
            "9. **Jaisalmer Fort, Jaisalmer:** This massive fort was built by the Rajput Maharaja Rawal Jaisal in the 12th century. It is a UNESCO World Heritage Site and a popular tourist destination.\n",
            "\n",
            "10. **Mehrangarh Fort, Jodhpur:** This imposing fort was built by the Rajput Maharaja Rao Jodha in the 15th century. It is a UNESCO World Heritage Site and a popular tourist destination.\n",
            "\n",
            "\n",
            "\u001b[1m> Entering new MultiRouteChain chain...\u001b[0m\n"
          ]
        },
        {
          "output_type": "stream",
          "name": "stderr",
          "text": [
            "/usr/local/lib/python3.10/dist-packages/langchain/chains/llm.py:316: UserWarning: The predict_and_parse method is deprecated, instead pass an output parser directly to LLMChain.\n",
            "  warnings.warn(\n"
          ]
        },
        {
          "output_type": "stream",
          "name": "stdout",
          "text": [
            "fact: {'input': 'Tell me some thing about nature .'}\n",
            "\u001b[1m> Finished chain.\u001b[0m\n",
            "1. **Biodiversity:** Nature is incredibly diverse, with an estimated 8.7 million species on Earth, each with unique adaptations and ecological roles. This diversity is essential for the functioning of ecosystems and the survival of life on Earth.\n",
            "\n",
            "2. **Interconnectedness:** All living things in nature are interconnected and interdependent. Changes in one part of an ecosystem can have ripple effects throughout the entire system. For example, the decline of a single species can lead to the decline of other species that rely on it for food or habitat.\n",
            "\n",
            "3. **Resilience:** Nature has a remarkable ability to recover from disturbances, such as fires, floods, and droughts. This resilience is due to the complex interactions between species and their environment. However, human activities, such as pollution and climate change, can overwhelm nature's ability to recover.\n",
            "\n",
            "4. **Beauty:** Nature is often seen as beautiful and awe-inspiring. This beauty can be found in the intricate patterns of a snowflake, the vibrant colors of a coral reef, or the vastness of a starry night sky. The beauty of nature can inspire us to appreciate the world around us and to take steps to protect it.\n",
            "\n",
            "5. **Importance to Humans:** Nature provides us with many essential resources, such as food, water, and air. It also provides us with a place to live, work, and play. Nature can also improve our physical and mental health. Spending time in nature has been shown to reduce stress, improve mood, and boost creativity.\n",
            "\n",
            "6. **Threats to Nature:** Nature is facing many threats, including habitat loss, pollution, climate change, and overexploitation of resources. These threats are putting the survival of many species at risk and are also undermining the ability of nature to provide us with the resources and benefits that we rely on.\n",
            "\n",
            "7. **Conservation:** Conservation is the practice of protecting and restoring nature. This can be done through a variety of means, such as creating protected areas, reducing pollution, and promoting sustainable use of resources. Conservation is essential for ensuring the survival of nature and the benefits that it provides to us.\n"
          ]
        }
      ]
    },
    {
      "cell_type": "markdown",
      "source": [
        "##2"
      ],
      "metadata": {
        "id": "NALXGC7pyrgr"
      }
    },
    {
      "cell_type": "markdown",
      "source": [
        "### **2.1 Retrieve most similar documents from vector store**"
      ],
      "metadata": {
        "id": "KH0pLaB9yrgs"
      }
    },
    {
      "cell_type": "code",
      "source": [
        "\n",
        "\n",
        "docs = WikipediaLoader(query=\"HUNTER X HUNTER\", load_max_docs=5).load()\n",
        "\n",
        "# split it into chunks\n",
        "text_splitter = RecursiveCharacterTextSplitter(chunk_size=1000, chunk_overlap=20)\n",
        "docs = text_splitter.split_documents(docs)\n",
        "\n",
        "# create the open-source embedding function\n",
        "embedding_function = GoogleGenerativeAIEmbeddings(model=\"models/embedding-001\")\n",
        "\n",
        "# load it into Chroma\n",
        "db = Chroma.from_documents(docs, embedding_function)\n",
        "\n",
        "# query it\n",
        "query = \"Tell me all about HUNTER X HUNTER\"\n",
        "final_docs = db.similarity_search(query , k=2)\n",
        "\n",
        "final_docs_str = \"\\n\".join([page.page_content for page in final_docs])\n",
        "\n",
        "prompt = PromptTemplate.from_template(\"\"\"\n",
        "Give me the answer for the following question using the context\n",
        "question : {question}\n",
        "context  : {context}\n",
        "\"\"\")\n",
        "\n",
        "chain = prompt | llm2 | StrOutputParser()\n",
        "question = \"How many number of copies are released for Hunter × Hunter?\"\n",
        "ans = chain.invoke({\"question\":question,\"context\":final_docs_str})\n",
        "\n",
        "print(ans)"
      ],
      "metadata": {
        "id": "VXLkYGYOExoF",
        "colab": {
          "base_uri": "https://localhost:8080/"
        },
        "outputId": "a4e6162d-c3d3-45d8-f6a2-0ea346bc47b2"
      },
      "execution_count": null,
      "outputs": [
        {
          "output_type": "stream",
          "name": "stdout",
          "text": [
            "84 million\n"
          ]
        }
      ]
    },
    {
      "cell_type": "markdown",
      "source": [
        "### **2.2 Know the weather of the day**"
      ],
      "metadata": {
        "id": "2piIaJXvyrgv"
      }
    },
    {
      "cell_type": "code",
      "source": [
        "loader = WeatherDataLoader.from_params(\n",
        "    [\"chennai\", \"vellore\"], openweathermap_api_key=\"0e3c31016f43cc752004df9994198a40\"\n",
        ")\n",
        "\n",
        "documents = loader.load()\n",
        "\n",
        "documents_str = \"\\n\".join([page.page_content for page in documents])\n",
        "\n",
        "prompt = ChatPromptTemplate.from_template(\"\"\"\n",
        "Answer the following question using the given context:\n",
        "question : {question}\n",
        "context : {context}\n",
        "\"\"\")\n",
        "\n",
        "chain = prompt | llm2 | StrOutputParser()\n",
        "\n",
        "res = chain.invoke({\"question\":\"What is the humidity in chennai\" , \"context\":documents_str})\n",
        "\n",
        "print(res)"
      ],
      "metadata": {
        "id": "aO57WEwnyrgv",
        "colab": {
          "base_uri": "https://localhost:8080/"
        },
        "outputId": "23412c47-751f-41ce-9478-8b163b619a37"
      },
      "execution_count": null,
      "outputs": [
        {
          "output_type": "stream",
          "name": "stdout",
          "text": [
            "66%\n"
          ]
        }
      ]
    },
    {
      "cell_type": "markdown",
      "source": [
        "## **3 . Use Multi chain to get the dish recipes based on seasonality**"
      ],
      "metadata": {
        "id": "YLhJDAHiyX8v"
      }
    },
    {
      "cell_type": "code",
      "source": [
        "def Dish_Recipe(seasonality):\n",
        "  course_prompt = ChatPromptTemplate.from_template(\"\"\"\"\n",
        "  Give me a 3-course vegetarian meal that uses seasonal ingredients in 3 lines:\n",
        "  seasonality : {seasonality}\n",
        "  \"\"\")\n",
        "  course_chain = course_prompt | llm2 | StrOutputParser()\n",
        "  course_res = course_chain.invoke({\"seasonality\":seasonality})\n",
        "\n",
        "  print(\"######################  Course  ############################\")\n",
        "  print(course_res)\n",
        "\n",
        "  dish_prompt = ChatPromptTemplate.from_template(\"\"\"\"\n",
        "  Give me a dish for following courses in 3 lines:\n",
        "  courses : {courses}\n",
        "  \"\"\")\n",
        "  dish_chain = dish_prompt | llm2 | StrOutputParser()\n",
        "  dish_res = dish_chain.invoke({\"courses\":course_res})\n",
        "\n",
        "  print(\"#######################  Dish  ###########################\")\n",
        "  print(dish_res)\n",
        "\n",
        "  recipe_prompt = ChatPromptTemplate.from_template(\"\"\"\"\n",
        "  Give me a recipe for following dishes:\n",
        "  dish : {dish}\n",
        "  \"\"\")\n",
        "  recipe_chain = recipe_prompt | llm2 | StrOutputParser()\n",
        "\n",
        "  recipe_res = recipe_chain.invoke({\"dish\":dish_res})\n",
        "\n",
        "  print(\"#####################  Recipe  #############################\")\n",
        "  print(recipe_res)\n",
        "\n",
        "Dish_Recipe(\"Winter\")"
      ],
      "metadata": {
        "colab": {
          "base_uri": "https://localhost:8080/"
        },
        "id": "N5MDDYWImZfZ",
        "outputId": "ea242d12-30c4-4a4e-c2bf-fbb1caddd48f"
      },
      "execution_count": null,
      "outputs": [
        {
          "output_type": "stream",
          "name": "stdout",
          "text": [
            "######################  Course  ############################\n",
            "1. Roasted Butternut Squash Soup with Sage and Thyme Croutons\n",
            "2. Grilled Portobello Mushrooms with Balsamic Glaze and Roasted Vegetables\n",
            "3. Apple and Cranberry Crumble with Vanilla Bean Ice Cream\n",
            "#######################  Dish  ###########################\n",
            "1. Roasted Butternut Squash Soup: A creamy and flavorful soup made with roasted butternut squash, sage, and thyme croutons.\n",
            "2. Grilled Portobello Mushrooms: Portobello mushrooms grilled to perfection and topped with a balsamic glaze and roasted vegetables.\n",
            "3. Apple and Cranberry Crumble: A classic dessert featuring a sweet and tart filling of apples and cranberries topped with a buttery crumble and served with vanilla bean ice cream.\n",
            "#####################  Recipe  #############################\n",
            "**Roasted Butternut Squash Soup:**\n",
            "\n",
            "**Ingredients:**\n",
            "\n",
            "* 1 medium butternut squash, peeled and cubed\n",
            "* 1 tablespoon olive oil\n",
            "* 1/2 teaspoon salt\n",
            "* 1/4 teaspoon black pepper\n",
            "* 1/2 teaspoon ground sage\n",
            "* 1/4 teaspoon ground thyme\n",
            "* 4 cups vegetable broth\n",
            "* 1 cup milk\n",
            "* 1/2 cup heavy cream\n",
            "* 1/4 cup chopped fresh parsley\n",
            "* Croutons, for serving\n",
            "\n",
            "**Instructions:**\n",
            "\n",
            "1. Preheat oven to 400°F (200°C).\n",
            "2. Toss butternut squash with olive oil, salt, pepper, sage, and thyme.\n",
            "3. Spread squash in a single layer on a baking sheet and roast for 25-30 minutes, or until tender and slightly browned.\n",
            "4. Transfer roasted squash to a large pot and add vegetable broth. Bring to a boil, then reduce heat and simmer for 15 minutes.\n",
            "5. Puree soup with an immersion blender or in a regular blender until smooth.\n",
            "6. Stir in milk and heavy cream. Season with additional salt and pepper to taste.\n",
            "7. Ladle soup into bowls and top with chopped parsley and croutons.\n",
            "\n",
            "**Grilled Portobello Mushrooms:**\n",
            "\n",
            "**Ingredients:**\n",
            "\n",
            "* 4 large portobello mushrooms\n",
            "* 1 tablespoon olive oil\n",
            "* 1/2 teaspoon salt\n",
            "* 1/4 teaspoon black pepper\n",
            "* 1/4 cup balsamic vinegar\n",
            "* 1 tablespoon honey\n",
            "* 1 tablespoon Dijon mustard\n",
            "* 1/4 cup roasted vegetables (such as bell peppers, zucchini, and onions)\n",
            "* 1/4 cup crumbled goat cheese\n",
            "\n",
            "**Instructions:**\n",
            "\n",
            "1. Preheat grill to medium-high heat.\n",
            "2. Brush portobello mushrooms with olive oil and season with salt and pepper.\n",
            "3. Grill mushrooms for 5-7 minutes per side, or until tender and slightly charred.\n",
            "4. While mushrooms are grilling, whisk together balsamic vinegar, honey, and Dijon mustard in a small bowl.\n",
            "5. Brush mushrooms with balsamic glaze and top with roasted vegetables and goat cheese.\n",
            "6. Grill for an additional 2-3 minutes, or until cheese is melted and bubbly.\n",
            "7. Serve immediately.\n",
            "\n",
            "**Apple and Cranberry Crumble:**\n",
            "\n",
            "**Ingredients:**\n",
            "\n",
            "* 6 cups peeled and sliced apples (such as Granny Smith or Honeycrisp)\n",
            "* 2 cups fresh cranberries\n",
            "* 1 cup sugar\n",
            "* 1/2 teaspoon ground cinnamon\n",
            "* 1/4 teaspoon ground nutmeg\n",
            "* 1/4 teaspoon salt\n",
            "* 1/2 cup all-purpose flour\n",
            "* 1/2 cup packed light brown sugar\n",
            "* 1/2 cup old-fashioned oats\n",
            "* 1/2 cup chopped walnuts\n",
            "* 1/2 cup (1 stick) unsalted butter, cold and cut into small pieces\n",
            "* Vanilla bean ice cream, for serving\n",
            "\n",
            "**Instructions:**\n",
            "\n",
            "1. Preheat oven to 375°F (190°C).\n",
            "2. In a large bowl, combine apples, cranberries, sugar, cinnamon, nutmeg, and salt. Toss to coat.\n",
            "3. Pour apple mixture into a 9x13 inch baking dish.\n",
            "4. In a medium bowl, combine flour, brown sugar, oats, walnuts, and butter. Use your fingers to work the butter into the dry ingredients until the mixture resembles coarse crumbs.\n",
            "5. Sprinkle crumble topping evenly over the apple mixture.\n",
            "6. Bake for 45-50 minutes, or until the topping is golden brown and the apples are tender.\n",
            "7. Let cool for 10 minutes before serving.\n",
            "8. Serve warm with vanilla bean ice cream.\n"
          ]
        }
      ]
    },
    {
      "cell_type": "markdown",
      "source": [
        "##4"
      ],
      "metadata": {
        "id": "H9761Fpzpqya"
      }
    },
    {
      "cell_type": "markdown",
      "source": [
        "### **4.1 Use agents to convert given content to another style of format( required format)**"
      ],
      "metadata": {
        "id": "NcqxuQfFMkgW"
      }
    },
    {
      "cell_type": "code",
      "source": [
        "passage = \"\"\"\n",
        "The sun was setting, casting a warm glow over the tranquil lake. The gentle breeze whispered through the trees,\n",
        "creating a symphony of rustling leaves. It was a serene evening, perfect for quiet reflection.\n",
        "\"\"\"\n",
        "template = \"\"\"\n",
        "Examine the stylistic elements such as tone, language choice, punctuation, sentence structure,\n",
        "and overall formality or informality in the following passage:\n",
        "'{passage}'\n",
        "Analyze how these elements contribute to the overall style and atmosphere of the passage.\n",
        "\"\"\"\n",
        "style_analysis_prompt =  ChatPromptTemplate.from_template(template = template)\n",
        "\n",
        "text_style_analysis_chain = style_analysis_prompt | llm2 | StrOutputParser()\n",
        "\n",
        "res_style_analysis = text_style_analysis_chain.invoke({\"passage\":passage})\n",
        "\n",
        "target_format = \"\"\"\n",
        "Blog post format\n",
        "\"\"\"\n",
        "\n",
        "transformation_template = \"\"\"\n",
        "Analyse the style of the following passage and convert the style of the passage into target format:\n",
        "passage : {passage}\n",
        "target format : {target format}\n",
        "\"\"\"\n",
        "\n",
        "\n",
        "\n",
        "@tool\n",
        "def StyleTransfer(passage, target_format):\n",
        "    \"\"\"Style transfer for the given passage into target format.\"\"\"\n",
        "    transformation_template = \"\"\"\n",
        "    Analyse the style of the following passage and convert the style of the passage into target format:\n",
        "    passage : {passage}\n",
        "    target format : {target format}\n",
        "    \"\"\"\n",
        "    transformation_prompt = ChatPromptTemplate.from_template(template = transformation_template)\n",
        "    transformation_chain = transformation_prompt | llm2 | StrOutputParser()\n",
        "    res = transformation_chain.invoke({\"passage\":passage , \"target format\":target_format})\n",
        "    return res\n",
        "\n",
        "tools = [StyleTransfer]\n",
        "\n",
        "\n",
        "prompt = ChatPromptTemplate.from_messages(\n",
        "    [\n",
        "\n",
        "        (\"user\", \"Convert the given passage into target format:\\n passage: {passage} \\n target format : {target format} \"),    # Give me the {passage} into {target format} style of content\n",
        "        MessagesPlaceholder(variable_name=\"agent_scratchpad\"),\n",
        "    ]\n",
        ")\n",
        "\n",
        "llm_with_tools = llm1.bind_tools(tools)\n",
        "\n",
        "from langchain.agents.format_scratchpad.openai_tools import (\n",
        "    format_to_openai_tool_messages,\n",
        ")\n",
        "from langchain.agents.output_parsers.openai_tools import OpenAIToolsAgentOutputParser\n",
        "\n",
        "agent = (\n",
        "    {\n",
        "        \"passage\": lambda x: x[\"passage\"],\n",
        "        \"target format\": lambda x: x[\"target format\"],\n",
        "        \"agent_scratchpad\": lambda x: format_to_openai_tool_messages(\n",
        "            x[\"intermediate_steps\"]\n",
        "        ),\n",
        "    }\n",
        "    | prompt\n",
        "    | llm_with_tools\n",
        "    | OpenAIToolsAgentOutputParser()\n",
        ")\n",
        "\n",
        "from langchain.agents import AgentExecutor\n",
        "\n",
        "agent_executor = AgentExecutor(agent=agent, tools=tools, verbose=True)\n",
        "\n",
        "style_transformed = agent_executor.invoke({\"passage\":passage , \"target format\":target_format})"
      ],
      "metadata": {
        "id": "fC64epIbMoVP",
        "colab": {
          "base_uri": "https://localhost:8080/"
        },
        "outputId": "df18a01b-3fe9-4fac-c2f5-124f9456d8f7"
      },
      "execution_count": null,
      "outputs": [
        {
          "output_type": "stream",
          "name": "stdout",
          "text": [
            "\n",
            "\n",
            "\u001b[1m> Entering new AgentExecutor chain...\u001b[0m\n",
            "\u001b[32;1m\u001b[1;3m\n",
            "Invoking: `StyleTransfer` with `{'passage': 'The sun was setting, casting a warm glow over the tranquil lake. The gentle breeze whispered through the trees, creating a symphony of rustling leaves. It was a serene evening, perfect for quiet reflection.', 'target_format': 'Blog post format'}`\n",
            "\n",
            "\n",
            "\u001b[0m\u001b[36;1m\u001b[1;3m**Title: A Tranquil Evening by the Lake**\n",
            "\n",
            "**Introduction:**\n",
            "\n",
            "As the sun gracefully descends, casting a warm and inviting glow upon the tranquil lake, a sense of serenity washes over me. The gentle breeze, like a whisper from nature, rustles through the trees, creating a symphony of rustling leaves. It is an evening of tranquility, perfect for quiet reflection and peaceful contemplation.\n",
            "\n",
            "**Body:**\n",
            "\n",
            "The lake, like a mirror, reflects the fading hues of the sky, painting a breathtaking canvas of colors. The water's surface is still and undisturbed, save for the occasional ripple caused by a leaping fish or a passing water strider. The air is filled with the sweet fragrance of wildflowers, carried by the gentle breeze.\n",
            "\n",
            "As I sit on the shore, lost in the beauty of the moment, I feel a sense of peace and tranquility wash over me. The worries and stresses of the day seem to melt away, replaced by a sense of calm and serenity. The world around me fades into the background, and I am left alone with my thoughts and the beauty of nature.\n",
            "\n",
            "The setting sun casts long shadows across the landscape, creating a sense of mystery and wonder. The trees stand tall and majestic, their branches reaching towards the sky like arms outstretched in praise. The lake, like a dark mirror, reflects the fading light, creating a sense of depth and intrigue.\n",
            "\n",
            "**Conclusion:**\n",
            "\n",
            "As the sun finally disappears below the horizon, I am left with a sense of awe and wonder. The evening has been a reminder of the beauty and tranquility that can be found in nature. It has been a time for reflection and renewal, a time to appreciate the simple things in life.\n",
            "\n",
            "As I leave the lake behind, I carry with me the memory of this tranquil evening. It is a memory that will stay with me long after the sun has set, a reminder of the peace and serenity that can be found in the natural world.\u001b[0m\u001b[32;1m\u001b[1;3mThe given passage has been converted into a blog post format. Here is the transformed content:\n",
            "\n",
            "---\n",
            "\n",
            "**Title: A Tranquil Evening by the Lake**\n",
            "\n",
            "**Introduction:**\n",
            "\n",
            "As the sun gracefully descends, casting a warm and inviting glow upon the tranquil lake, a sense of serenity washes over me. The gentle breeze, like a whisper from nature, rustles through the trees, creating a symphony of rustling leaves. It is an evening of tranquility, perfect for quiet reflection and peaceful contemplation.\n",
            "\n",
            "**Body:**\n",
            "\n",
            "The lake, like a mirror, reflects the fading hues of the sky, painting a breathtaking canvas of colors. The water's surface is still and undisturbed, save for the occasional ripple caused by a leaping fish or a passing water strider. The air is filled with the sweet fragrance of wildflowers, carried by the gentle breeze.\n",
            "\n",
            "As I sit on the shore, lost in the beauty of the moment, I feel a sense of peace and tranquility wash over me. The worries and stresses of the day seem to melt away, replaced by a sense of calm and serenity. The world around me fades into the background, and I am left alone with my thoughts and the beauty of nature.\n",
            "\n",
            "The setting sun casts long shadows across the landscape, creating a sense of mystery and wonder. The trees stand tall and majestic, their branches reaching towards the sky like arms outstretched in praise. The lake, like a dark mirror, reflects the fading light, creating a sense of depth and intrigue.\n",
            "\n",
            "**Conclusion:**\n",
            "\n",
            "As the sun finally disappears below the horizon, I am left with a sense of awe and wonder. The evening has been a reminder of the beauty and tranquility that can be found in nature. It has been a time for reflection and renewal, a time to appreciate the simple things in life.\n",
            "\n",
            "As I leave the lake behind, I carry with me the memory of this tranquil evening. It is a memory that will stay with me long after the sun has set, a reminder of the peace and serenity that can be found in the natural world.\n",
            "\n",
            "--- \n",
            "\n",
            "The passage has been transformed into a blog post format.\u001b[0m\n",
            "\n",
            "\u001b[1m> Finished chain.\u001b[0m\n"
          ]
        }
      ]
    },
    {
      "cell_type": "code",
      "source": [
        "print(style_transformed['output'])"
      ],
      "metadata": {
        "colab": {
          "base_uri": "https://localhost:8080/"
        },
        "id": "PNn1zQB-bn5l",
        "outputId": "44c6cbbd-d3e2-49e3-9b4e-676bada67323"
      },
      "execution_count": null,
      "outputs": [
        {
          "output_type": "stream",
          "name": "stdout",
          "text": [
            "The given passage has been converted into a blog post format. Here is the transformed content:\n",
            "\n",
            "---\n",
            "\n",
            "**Title: A Tranquil Evening by the Lake**\n",
            "\n",
            "**Introduction:**\n",
            "\n",
            "As the sun gracefully descends, casting a warm and inviting glow upon the tranquil lake, a sense of serenity washes over me. The gentle breeze, like a whisper from nature, rustles through the trees, creating a symphony of rustling leaves. It is an evening of tranquility, perfect for quiet reflection and peaceful contemplation.\n",
            "\n",
            "**Body:**\n",
            "\n",
            "The lake, like a mirror, reflects the fading hues of the sky, painting a breathtaking canvas of colors. The water's surface is still and undisturbed, save for the occasional ripple caused by a leaping fish or a passing water strider. The air is filled with the sweet fragrance of wildflowers, carried by the gentle breeze.\n",
            "\n",
            "As I sit on the shore, lost in the beauty of the moment, I feel a sense of peace and tranquility wash over me. The worries and stresses of the day seem to melt away, replaced by a sense of calm and serenity. The world around me fades into the background, and I am left alone with my thoughts and the beauty of nature.\n",
            "\n",
            "The setting sun casts long shadows across the landscape, creating a sense of mystery and wonder. The trees stand tall and majestic, their branches reaching towards the sky like arms outstretched in praise. The lake, like a dark mirror, reflects the fading light, creating a sense of depth and intrigue.\n",
            "\n",
            "**Conclusion:**\n",
            "\n",
            "As the sun finally disappears below the horizon, I am left with a sense of awe and wonder. The evening has been a reminder of the beauty and tranquility that can be found in nature. It has been a time for reflection and renewal, a time to appreciate the simple things in life.\n",
            "\n",
            "As I leave the lake behind, I carry with me the memory of this tranquil evening. It is a memory that will stay with me long after the sun has set, a reminder of the peace and serenity that can be found in the natural world.\n",
            "\n",
            "--- \n",
            "\n",
            "The passage has been transformed into a blog post format.\n"
          ]
        }
      ]
    },
    {
      "cell_type": "code",
      "source": [],
      "metadata": {
        "id": "YJltKe5Obn_H"
      },
      "execution_count": null,
      "outputs": []
    },
    {
      "cell_type": "markdown",
      "source": [
        "### **4.2 Use agents to summarise the required or relevant articles**"
      ],
      "metadata": {
        "id": "6GlB4qQtMouG"
      }
    },
    {
      "cell_type": "code",
      "source": [
        "news_api_key = \"2ace72c9c7a04dc889bd75be7973f8e9\""
      ],
      "metadata": {
        "id": "QH3wEABCB3cH"
      },
      "execution_count": null,
      "outputs": []
    },
    {
      "cell_type": "code",
      "source": [
        "\n",
        "newsapi = NewsApiClient(api_key=news_api_key)\n",
        "\n",
        "all_articles = newsapi.get_everything(q='technology',\n",
        "                                      language='en',\n",
        "                                      sort_by='popularity',\n",
        "                                      page=5)\n",
        "\n",
        "urls = [all_articles['articles'][i]['url'] for i in range(0,5)]\n",
        "\n",
        "loader = NewsURLLoader(urls=urls)\n",
        "data = loader.load()\n",
        "\n",
        "content = \"\\n\".join([data[i].page_content for i in range(len(data))])\n",
        "\n",
        "article_template = \"\"\"\n",
        "Summarise the following content:\n",
        "content : {article content}\n",
        "\"\"\"\n",
        "article_prompt = ChatPromptTemplate.from_template(article_template)\n",
        "article_chain = article_prompt | llm1 | StrOutputParser()\n",
        "\n",
        "article_res = article_chain.invoke({\"article content\":content})"
      ],
      "metadata": {
        "id": "YtLyM2ySwNm_"
      },
      "execution_count": null,
      "outputs": []
    },
    {
      "cell_type": "code",
      "source": [
        "print(article_res)"
      ],
      "metadata": {
        "colab": {
          "base_uri": "https://localhost:8080/"
        },
        "id": "5AJGySEZQGQw",
        "outputId": "a2ed2381-3c39-4fb6-95da-2bc872e6013a"
      },
      "execution_count": null,
      "outputs": [
        {
          "output_type": "stream",
          "name": "stdout",
          "text": [
            "The content discusses the transformative effects of GLP-1 medications, such as Mounjaro, on weight loss and behavior. The author shares their personal experience with these medications, highlighting how they have redefined their relationship with food, shame, and self-perception. The article delves into the broader implications of GLP-1s on issues of free will, addiction, criminal justice, and childhood obesity. The author reflects on the profound impact of these medications on their life and the complex ethical questions they raise.\n"
          ]
        }
      ]
    },
    {
      "cell_type": "code",
      "source": [
        "\n"
      ],
      "metadata": {
        "id": "cQAwumhmQVlP"
      },
      "execution_count": null,
      "outputs": []
    }
  ],
  "metadata": {
    "colab": {
      "provenance": [],
      "collapsed_sections": [
        "cON3buEphU8o",
        "NALXGC7pyrgr",
        "YLhJDAHiyX8v"
      ]
    },
    "kernelspec": {
      "display_name": "Python 3",
      "name": "python3"
    },
    "language_info": {
      "name": "python"
    }
  },
  "nbformat": 4,
  "nbformat_minor": 0
}